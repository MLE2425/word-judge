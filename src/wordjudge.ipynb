{
 "cells": [
  {
   "cell_type": "markdown",
   "metadata": {},
   "source": [
    "# WordJudge: Will your text go to AI jail?\n",
    "\n",
    "In this notebook we will demostrate the workflow that we have followed during the development of WordJudge.\n",
    "\n",
    "A detail explanation of the worlflow can be found in the [README.md](https://github.com/MLE2425/word-judge/blob/main/README.md).\n",
    "\n",
    "We have used custom functions and configurations defined in `data.py`,  `nlp.py` and `cfg.py`, in order to process the data and train the model, while keeping this notebook as clean and simple as possible."
   ]
  },
  {
   "cell_type": "markdown",
   "metadata": {},
   "source": [
    "## Imports"
   ]
  },
  {
   "cell_type": "code",
   "execution_count": 13,
   "metadata": {},
   "outputs": [],
   "source": [
    "# Set root path\n",
    "import sys\n",
    "import gc\n",
    "\n",
    "sys.path.append(\"..\")\n",
    "\n",
    "import os\n",
    "import logging\n",
    "\n",
    "import polars as pl\n",
    "from cfg import CFG\n",
    "import skops.io as skio\n",
    "\n",
    "from src.data.data import load_and_merge_sources\n",
    "from src.data.nlp import tokenize, tokenize_series\n",
    "\n",
    "from jax import numpy as jnp\n",
    "import numpy as np\n",
    "\n",
    "from sklearn.feature_extraction.text import TfidfVectorizer\n",
    "from sklearn.model_selection import (\n",
    "    learning_curve,\n",
    "    StratifiedKFold,\n",
    "    cross_val_score,\n",
    "    train_test_split,\n",
    ")\n",
    "from sklearn.linear_model import LogisticRegression\n",
    "from sklearn.ensemble import RandomForestClassifier\n",
    "from sklearn import metrics\n",
    "\n",
    "import seaborn as sns\n",
    "import matplotlib.pyplot as plt\n",
    "\n",
    "\n",
    "logger: logging.Logger = logging.getLogger(__name__)"
   ]
  },
  {
   "cell_type": "markdown",
   "metadata": {},
   "source": [
    "## Check sources"
   ]
  },
  {
   "cell_type": "markdown",
   "metadata": {},
   "source": [
    "Before we start, let's check the sources we have available. If any of them are missing, we will have to download them."
   ]
  },
  {
   "cell_type": "code",
   "execution_count": 3,
   "metadata": {},
   "outputs": [],
   "source": [
    "for source in [\n",
    "    \"train_prompts.csv\",\n",
    "    \"machine-dev.csv\",\n",
    "    \"machine-test.csv\",\n",
    "    \"machine-train.csv\",\n",
    "    \"train_drcat_01.csv\",\n",
    "    \"train_drcat_02.csv\",\n",
    "    \"train_drcat_03.csv\",\n",
    "    \"train_drcat_04.csv\",\n",
    "    \"train_essays.csv\",\n",
    "    \"argugpt.csv\",\n",
    "    \"essay_forum_real.csv\",\n",
    "    \"test\",\n",
    "    \"drcat_v3.csv\",\n",
    "    \"ivypanda.csv\",\n",
    "    \"mlm_real.csv\",\n",
    "    \"mlm_synthetic.csv\",\n",
    "]:\n",
    "    if source not in os.listdir(CFG.data_dir):\n",
    "        raise FileNotFoundError(f\"{source} not found in {CFG.data_dir}\")"
   ]
  },
  {
   "cell_type": "markdown",
   "metadata": {},
   "source": [
    "## Merge sources"
   ]
  },
  {
   "cell_type": "markdown",
   "metadata": {},
   "source": [
    "We use a previusly defined function to merge the sources into a single dataframe.\n",
    "\n",
    "The configuration for this can be found in src/cfg.py and the function in src/data/data.py\n",
    "\n",
    "After merging we select only the unique values."
   ]
  },
  {
   "cell_type": "code",
   "execution_count": 4,
   "metadata": {},
   "outputs": [
    {
     "name": "stderr",
     "output_type": "stream",
     "text": [
      "/Users/adrf/Desktop/uni/master/mle/ia-text-detector/src/cfg.py:49: MapWithoutReturnDtypeWarning: Calling `map_elements` without specifying `return_dtype` can lead to unpredictable results. Specify `return_dtype` to silence this warning.\n",
      "  \"ivypanda.*\": lambda x: x.sample(n=50000).with_columns(\n"
     ]
    },
    {
     "name": "stdout",
     "output_type": "stream",
     "text": [
      "shape: (150_406, 2)\n",
      "┌─────────────────────────────────┬───────┐\n",
      "│ text                            ┆ count │\n",
      "│ ---                             ┆ ---   │\n",
      "│ str                             ┆ u32   │\n",
      "╞═════════════════════════════════╪═══════╡\n",
      "│ The successful \"Day Without Ca… ┆ 1     │\n",
      "│ Mindsets in the Classroom: Def… ┆ 1     │\n",
      "│ Lots of people in the world us… ┆ 1     │\n",
      "│  The electoral college is a sy… ┆ 1     │\n",
      "│ here is the essay question:A r… ┆ 1     │\n",
      "│ …                               ┆ …     │\n",
      "│ Claim 1: The Face is a natural… ┆ 1     │\n",
      "│ This is my essay, please give … ┆ 1     │\n",
      "│ I agree that education is expe… ┆ 1     │\n",
      "│ HR Critical Thinking: Where Do… ┆ 1     │\n",
      "│ In my search for a university,… ┆ 1     │\n",
      "└─────────────────────────────────┴───────┘\n",
      "shape: (2, 2)\n",
      "┌───────────┬───────┐\n",
      "│ generated ┆ count │\n",
      "│ ---       ┆ ---   │\n",
      "│ i8        ┆ u32   │\n",
      "╞═══════════╪═══════╡\n",
      "│ 0         ┆ 75616 │\n",
      "│ 1         ┆ 74790 │\n",
      "└───────────┴───────┘\n"
     ]
    }
   ],
   "source": [
    "sources: pl.DataFrame = load_and_merge_sources()\n",
    "sources = sources.unique(subset=[\"text\"])\n",
    "print(sources[\"text\"].value_counts())\n",
    "print(sources[\"generated\"].value_counts())"
   ]
  },
  {
   "cell_type": "code",
   "execution_count": 5,
   "metadata": {},
   "outputs": [
    {
     "name": "stdout",
     "output_type": "stream",
     "text": [
      "shape: (150_406, 2)\n",
      "┌─────────────────────────────────┬───────┐\n",
      "│ text                            ┆ count │\n",
      "│ ---                             ┆ ---   │\n",
      "│ str                             ┆ u32   │\n",
      "╞═════════════════════════════════╪═══════╡\n",
      "│ A World Without Ice: Effects o… ┆ 1     │\n",
      "│ Quality & Rate Factors in Mana… ┆ 1     │\n",
      "│ Describe the world you come fr… ┆ 1     │\n",
      "│ The article \"Driverless Cars a… ┆ 1     │\n",
      "│ Very few people have had an ad… ┆ 1     │\n",
      "│ …                               ┆ …     │\n",
      "│ \"I personally believe that vid… ┆ 1     │\n",
      "│ The Face on Mars, located in t… ┆ 1     │\n",
      "│ Have you ever wondered about t… ┆ 1     │\n",
      "│ Title: Unveiling the Mysteries… ┆ 1     │\n",
      "│ Literature Comparison: This Is… ┆ 1     │\n",
      "└─────────────────────────────────┴───────┘\n",
      "shape: (2, 2)\n",
      "┌───────────┬───────┐\n",
      "│ generated ┆ count │\n",
      "│ ---       ┆ ---   │\n",
      "│ i8        ┆ u32   │\n",
      "╞═══════════╪═══════╡\n",
      "│ 0         ┆ 75616 │\n",
      "│ 1         ┆ 74790 │\n",
      "└───────────┴───────┘\n",
      "shape: (7, 2)\n",
      "┌──────────────────────┬───────┐\n",
      "│ source               ┆ count │\n",
      "│ ---                  ┆ ---   │\n",
      "│ str                  ┆ u32   │\n",
      "╞══════════════════════╪═══════╡\n",
      "│ ivypanda.csv         ┆ 50000 │\n",
      "│ machine-test.csv     ┆ 350   │\n",
      "│ machine-train.csv    ┆ 3338  │\n",
      "│ train_drcat_04.csv   ┆ 44155 │\n",
      "│ machine-dev.csv      ┆ 350   │\n",
      "│ drcat_v3.csv         ┆ 26646 │\n",
      "│ essay_forum_real.csv ┆ 25567 │\n",
      "└──────────────────────┴───────┘\n"
     ]
    }
   ],
   "source": [
    "# Plot distribution of each column\n",
    "for col in sources.columns:\n",
    "    print(sources[col].value_counts())"
   ]
  },
  {
   "cell_type": "markdown",
   "metadata": {},
   "source": [
    "## Tokenize"
   ]
  },
  {
   "cell_type": "markdown",
   "metadata": {},
   "source": [
    "To avoid memory issues, we will split the data into chunks and tokenize them separately, then merge them back together."
   ]
  },
  {
   "cell_type": "code",
   "execution_count": 6,
   "metadata": {},
   "outputs": [
    {
     "name": "stderr",
     "output_type": "stream",
     "text": [
      "Tokenizing:   0%|          | 1/26000 [00:00<7:11:34,  1.00it/s]Token indices sequence length is longer than the specified maximum sequence length for this model (615 > 512). Running this sequence through the model will result in indexing errors\n",
      "Tokenizing: 100%|██████████| 26000/26000 [00:24<00:00, 1043.61it/s]\n",
      "Tokenizing:   0%|          | 0/26000 [00:00<?, ?it/s]Token indices sequence length is longer than the specified maximum sequence length for this model (587 > 512). Running this sequence through the model will result in indexing errors\n",
      "Tokenizing: 100%|██████████| 26000/26000 [00:24<00:00, 1056.11it/s]\n",
      "Tokenizing:   0%|          | 0/26000 [00:00<?, ?it/s]Token indices sequence length is longer than the specified maximum sequence length for this model (845 > 512). Running this sequence through the model will result in indexing errors\n",
      "Tokenizing: 100%|██████████| 26000/26000 [00:24<00:00, 1058.55it/s]\n",
      "Tokenizing:   0%|          | 0/26000 [00:00<?, ?it/s]Token indices sequence length is longer than the specified maximum sequence length for this model (615 > 512). Running this sequence through the model will result in indexing errors\n",
      "Tokenizing: 100%|██████████| 26000/26000 [00:24<00:00, 1070.82it/s]\n",
      "Tokenizing:   0%|          | 0/26000 [00:00<?, ?it/s]Token indices sequence length is longer than the specified maximum sequence length for this model (726 > 512). Running this sequence through the model will result in indexing errors\n",
      "Tokenizing: 100%|██████████| 26000/26000 [00:26<00:00, 969.02it/s] \n",
      "Tokenizing:   0%|          | 0/20406 [00:00<?, ?it/s]Token indices sequence length is longer than the specified maximum sequence length for this model (1165 > 512). Running this sequence through the model will result in indexing errors\n",
      "Tokenizing: 100%|██████████| 20406/20406 [00:20<00:00, 972.76it/s] \n"
     ]
    },
    {
     "data": {
      "text/plain": [
       "0"
      ]
     },
     "execution_count": 6,
     "metadata": {},
     "output_type": "execute_result"
    }
   ],
   "source": [
    "# Split dataset in 26k rows each, tokenize and save separately to save memory using a sliding window\n",
    "\n",
    "# Split dataset in 26k rows each\n",
    "n = 26000\n",
    "for i, pos in enumerate(range(0, len(sources), n)):\n",
    "    split = sources[pos : pos + n]\n",
    "    tokenized = split.with_columns(\n",
    "        pl.col(\"text\").map_batches(function=tokenize_series).alias(\"tokens\"),\n",
    "    )\n",
    "    tokenized.write_csv(f\"{CFG.project_dir}/output/tokenized_sources_split-{i}.csv\")\n",
    "    del split, tokenized\n",
    "    gc.collect()\n",
    "\n",
    "del sources\n",
    "gc.collect()"
   ]
  },
  {
   "cell_type": "code",
   "execution_count": 7,
   "metadata": {},
   "outputs": [],
   "source": [
    "tokenized_sources = []\n",
    "for file in os.listdir(f\"{CFG.project_dir}/output\"):\n",
    "    if \"tokenized_sources_split\" in file:\n",
    "        tokenized_sources.append(pl.read_csv(f\"{CFG.project_dir}/output/{file}\"))\n",
    "\n",
    "tokenized_sources = pl.concat(tokenized_sources, how=\"vertical\", parallel=True)\n",
    "tokenized_sources.write_csv(f\"{CFG.project_dir}/output/tokenized_sources.csv\")"
   ]
  },
  {
   "cell_type": "markdown",
   "metadata": {},
   "source": [
    "Now that we have the data tokenized, we need to perform ifidf on it before we can use it for training"
   ]
  },
  {
   "cell_type": "code",
   "execution_count": 8,
   "metadata": {},
   "outputs": [
    {
     "name": "stderr",
     "output_type": "stream",
     "text": [
      "/var/folders/lr/h243hf4s6wl2jnyg3s9h3jlm0000gn/T/ipykernel_13299/2102557886.py:7: PolarsInefficientMapWarning: \n",
      "Series.map_elements is significantly slower than the native series API.\n",
      "Only use if you absolutely CANNOT implement your logic otherwise.\n",
      "Replace this expression...\n",
      "  - s.map_elements(lambda x: ...)\n",
      "with this one instead:\n",
      "  + s.str.replace_all(\"'\",'',literal=True).str.replace_all('[','',literal=True).str.replace_all(']','',literal=True).str.replace_all(',','',literal=True).str.replace_all('CLS ','',literal=True).str.replace_all('SEP','',literal=True).str.replace_all('  ',' ',literal=True)\n",
      "\n",
      "  return s.map_elements(\n",
      "/var/folders/lr/h243hf4s6wl2jnyg3s9h3jlm0000gn/T/ipykernel_13299/2102557886.py:7: MapWithoutReturnDtypeWarning: Calling `map_elements` without specifying `return_dtype` can lead to unpredictable results. Specify `return_dtype` to silence this warning.\n",
      "  return s.map_elements(\n"
     ]
    }
   ],
   "source": [
    "# Each \"tokens\" columns appears as\n",
    "# \"[['asdasd', 'asdasd],['asdasdasd','adsasdasd']]\"\n",
    "# We need them to be a space separated list of words\n",
    "\n",
    "\n",
    "def flatten_series(s: pl.Series) -> pl.Series:\n",
    "    return s.map_elements(\n",
    "        lambda x: x.replace(\"'\", \"\")\n",
    "        .replace(\"[\", \"\")\n",
    "        .replace(\"]\", \"\")\n",
    "        .replace(\",\", \"\")\n",
    "        .replace(\"CLS \", \"\")\n",
    "        .replace(\"SEP\", \"\")\n",
    "        .replace(\"  \", \" \")\n",
    "    )\n",
    "\n",
    "\n",
    "tokenized = pl.read_csv(f\"{CFG.project_dir}/output/tokenized_sources.csv\")\n",
    "tokenized = tokenized.with_columns(\n",
    "    pl.col(\"tokens\").map_batches(function=flatten_series).alias(\"tokens\"),\n",
    ")"
   ]
  },
  {
   "cell_type": "code",
   "execution_count": 9,
   "metadata": {},
   "outputs": [
    {
     "name": "stdout",
     "output_type": "stream",
     "text": [
      "Términos:  ['00' '000' '001' ... 'ан' 'ия' 'ка']  Número de términos:  22507\n",
      "Idf:  [ 6.49138075  4.74724278  9.7430464  ... 12.22795305 12.22795305\n",
      " 12.22795305] (Longitud):  22507\n"
     ]
    }
   ],
   "source": [
    "vectorizer = TfidfVectorizer()\n",
    "X = vectorizer.fit_transform(tokenized[\"tokens\"].to_numpy())\n",
    "print(\n",
    "    \"Términos: \",\n",
    "    vectorizer.get_feature_names_out(),\n",
    "    \" Número de términos: \",\n",
    "    len(vectorizer.get_feature_names_out()),\n",
    ")\n",
    "print(\"Idf: \", vectorizer.idf_, \"(Longitud): \", len(vectorizer.idf_))"
   ]
  },
  {
   "cell_type": "code",
   "execution_count": 10,
   "metadata": {},
   "outputs": [],
   "source": [
    "# Save the model for future use\n",
    "skio.dump(vectorizer, f\"{CFG.project_dir}/output/tfidf_vectorizer.skops\")"
   ]
  },
  {
   "cell_type": "markdown",
   "metadata": {},
   "source": [
    "# Training"
   ]
  },
  {
   "cell_type": "markdown",
   "metadata": {},
   "source": [
    "We divide the data into training and testing sets in order to train and evaluate the model."
   ]
  },
  {
   "cell_type": "code",
   "execution_count": 14,
   "metadata": {},
   "outputs": [],
   "source": [
    "x_train, x_test, y_train, y_test = train_test_split(\n",
    "    X, tokenized[\"generated\"].to_numpy(), test_size=0.2, random_state=42\n",
    ")"
   ]
  },
  {
   "cell_type": "markdown",
   "metadata": {},
   "source": [
    "Now with Linear Regression"
   ]
  },
  {
   "cell_type": "code",
   "execution_count": 15,
   "metadata": {},
   "outputs": [],
   "source": [
    "# Train a model\n",
    "model = LogisticRegression()\n",
    "kfold = StratifiedKFold(n_splits=5, shuffle=True, random_state=42)\n",
    "cv_scores = cross_val_score(model, x_train, y_train, cv=kfold, scoring=\"accuracy\")\n",
    "model = model.fit(x_train, y_train)\n",
    "y_pred = model.predict(x_test)"
   ]
  },
  {
   "cell_type": "code",
   "execution_count": 17,
   "metadata": {},
   "outputs": [],
   "source": [
    "skio.dump(model, f\"{CFG.project_dir}/output/logistic_regressor.skops\")"
   ]
  },
  {
   "cell_type": "markdown",
   "metadata": {},
   "source": [
    "### Evaluation\n",
    "\n",
    "We will evaluate the models using the RMSE metric, R2 and MAE"
   ]
  },
  {
   "cell_type": "code",
   "execution_count": 18,
   "metadata": {},
   "outputs": [
    {
     "name": "stdout",
     "output_type": "stream",
     "text": [
      "CV Metrics:\n",
      "Cross-validation scores: [0.98981924 0.99023478 0.98998546 0.99073343 0.98944481]\n",
      "Mean accuracy: 0.9900435441081556\n",
      "Standard deviation: 0.00043004165369511126\n",
      "-----------------------------------\n",
      "Classification Metrics:\n",
      "Accuracy: 0.99035968353168\n",
      "Precision: 0.9948993288590604\n",
      "Recall: 0.9857693842266259\n",
      "F1 Score: 0.9903133141826441\n",
      "-----------------------------------\n",
      "Confusion Matrix\n",
      "[[14968    76]\n",
      " [  214 14824]]\n",
      "-----------------------------------\n",
      "Regression Metrics\n",
      "Mean Absolute Error: 0.009640316468319926\n",
      "Mean Squared Error: 0.009640316468319926\n",
      "R2 Score: 0.9614387325926672\n",
      "-----------------------------------\n"
     ]
    }
   ],
   "source": [
    "# Print results\n",
    "print(\"CV Metrics:\")\n",
    "print(\"Cross-validation scores:\", cv_scores)\n",
    "print(\"Mean accuracy:\", cv_scores.mean())\n",
    "print(\"Standard deviation:\", cv_scores.std())\n",
    "print(\"-----------------------------------\")\n",
    "print(\"Classification Metrics:\")\n",
    "print(\"Accuracy:\", metrics.accuracy_score(y_test, y_pred))\n",
    "print(\"Precision:\", metrics.precision_score(y_test, y_pred))\n",
    "print(\"Recall:\", metrics.recall_score(y_test, y_pred))\n",
    "print(\"F1 Score:\", metrics.f1_score(y_test, y_pred))\n",
    "print(\"-----------------------------------\")\n",
    "print(\"Confusion Matrix\")\n",
    "print(metrics.confusion_matrix(y_test, y_pred))\n",
    "print(\"-----------------------------------\")\n",
    "print(\"Regression Metrics\")\n",
    "print(\"Mean Absolute Error:\", metrics.mean_absolute_error(y_test, y_pred))\n",
    "print(\"Mean Squared Error:\", metrics.mean_squared_error(y_test, y_pred))\n",
    "print(\"R2 Score:\", metrics.r2_score(y_test, y_pred))\n",
    "print(\"-----------------------------------\")"
   ]
  },
  {
   "cell_type": "code",
   "execution_count": 20,
   "metadata": {},
   "outputs": [
    {
     "data": {
      "text/plain": [
       "0.9903587681569185"
      ]
     },
     "execution_count": 20,
     "metadata": {},
     "output_type": "execute_result"
    }
   ],
   "source": [
    "metrics.roc_auc_score(y_test, y_pred)"
   ]
  },
  {
   "cell_type": "markdown",
   "metadata": {},
   "source": [
    "### Training sizes\n",
    "\n",
    "We will train the models with different sizes of the dataset to see how the performance changes to observe if more data would result in better models given the learning curve of the model"
   ]
  },
  {
   "cell_type": "code",
   "execution_count": 19,
   "metadata": {},
   "outputs": [
    {
     "name": "stderr",
     "output_type": "stream",
     "text": [
      "huggingface/tokenizers: The current process just got forked, after parallelism has already been used. Disabling parallelism to avoid deadlocks...\n",
      "To disable this warning, you can either:\n",
      "\t- Avoid using `tokenizers` before the fork if possible\n",
      "\t- Explicitly set the environment variable TOKENIZERS_PARALLELISM=(true | false)\n",
      "huggingface/tokenizers: The current process just got forked, after parallelism has already been used. Disabling parallelism to avoid deadlocks...\n",
      "To disable this warning, you can either:\n",
      "\t- Avoid using `tokenizers` before the fork if possible\n",
      "\t- Explicitly set the environment variable TOKENIZERS_PARALLELISM=(true | false)\n",
      "huggingface/tokenizers: The current process just got forked, after parallelism has already been used. Disabling parallelism to avoid deadlocks...\n",
      "To disable this warning, you can either:\n",
      "\t- Avoid using `tokenizers` before the fork if possible\n",
      "\t- Explicitly set the environment variable TOKENIZERS_PARALLELISM=(true | false)\n",
      "huggingface/tokenizers: The current process just got forked, after parallelism has already been used. Disabling parallelism to avoid deadlocks...\n",
      "To disable this warning, you can either:\n",
      "\t- Avoid using `tokenizers` before the fork if possible\n",
      "\t- Explicitly set the environment variable TOKENIZERS_PARALLELISM=(true | false)\n",
      "huggingface/tokenizers: The current process just got forked, after parallelism has already been used. Disabling parallelism to avoid deadlocks...\n",
      "To disable this warning, you can either:\n",
      "\t- Avoid using `tokenizers` before the fork if possible\n",
      "\t- Explicitly set the environment variable TOKENIZERS_PARALLELISM=(true | false)\n",
      "huggingface/tokenizers: The current process just got forked, after parallelism has already been used. Disabling parallelism to avoid deadlocks...\n",
      "To disable this warning, you can either:\n",
      "\t- Avoid using `tokenizers` before the fork if possible\n",
      "\t- Explicitly set the environment variable TOKENIZERS_PARALLELISM=(true | false)\n",
      "huggingface/tokenizers: The current process just got forked, after parallelism has already been used. Disabling parallelism to avoid deadlocks...\n",
      "To disable this warning, you can either:\n",
      "\t- Avoid using `tokenizers` before the fork if possible\n",
      "\t- Explicitly set the environment variable TOKENIZERS_PARALLELISM=(true | false)\n",
      "huggingface/tokenizers: The current process just got forked, after parallelism has already been used. Disabling parallelism to avoid deadlocks...\n",
      "To disable this warning, you can either:\n",
      "\t- Avoid using `tokenizers` before the fork if possible\n",
      "\t- Explicitly set the environment variable TOKENIZERS_PARALLELISM=(true | false)\n",
      "huggingface/tokenizers: The current process just got forked, after parallelism has already been used. Disabling parallelism to avoid deadlocks...\n",
      "To disable this warning, you can either:\n",
      "\t- Avoid using `tokenizers` before the fork if possible\n",
      "\t- Explicitly set the environment variable TOKENIZERS_PARALLELISM=(true | false)\n",
      "huggingface/tokenizers: The current process just got forked, after parallelism has already been used. Disabling parallelism to avoid deadlocks...\n",
      "To disable this warning, you can either:\n",
      "\t- Avoid using `tokenizers` before the fork if possible\n",
      "\t- Explicitly set the environment variable TOKENIZERS_PARALLELISM=(true | false)\n",
      "huggingface/tokenizers: The current process just got forked, after parallelism has already been used. Disabling parallelism to avoid deadlocks...\n",
      "To disable this warning, you can either:\n",
      "\t- Avoid using `tokenizers` before the fork if possible\n",
      "\t- Explicitly set the environment variable TOKENIZERS_PARALLELISM=(true | false)\n",
      "huggingface/tokenizers: The current process just got forked, after parallelism has already been used. Disabling parallelism to avoid deadlocks...\n",
      "To disable this warning, you can either:\n",
      "\t- Avoid using `tokenizers` before the fork if possible\n",
      "\t- Explicitly set the environment variable TOKENIZERS_PARALLELISM=(true | false)\n"
     ]
    },
    {
     "data": {
      "image/png": "[encoded data removed]",
      "text/plain": [
       "<Figure size 1000x600 with 1 Axes>"
      ]
     },
     "metadata": {},
     "output_type": "display_data"
    }
   ],
   "source": [
    "def plot_learning_curve(estimator, X, y, cv=5, train_sizes=np.linspace(0.1, 1.0, 10)):\n",
    "    # Compute learning curves\n",
    "    train_sizes, train_scores, test_scores = learning_curve(\n",
    "        estimator, X, y, cv=cv, n_jobs=-1, train_sizes=train_sizes, scoring=\"accuracy\"\n",
    "    )\n",
    "\n",
    "    # Use JAX for computation\n",
    "    train_mean = jnp.mean(train_scores, axis=1)\n",
    "    train_std = jnp.std(train_scores, axis=1)\n",
    "    test_mean = jnp.mean(test_scores, axis=1)\n",
    "    test_std = jnp.std(test_scores, axis=1)\n",
    "\n",
    "    # Convert back to NumPy for compatibility with Polars\n",
    "    train_mean = np.array(train_mean)\n",
    "    train_std = np.array(train_std)\n",
    "    test_mean = np.array(test_mean)\n",
    "    test_std = np.array(test_std)\n",
    "\n",
    "    # Prepare data using Polars\n",
    "    data = pl.DataFrame(\n",
    "        {\n",
    "            \"Train Size\": np.concatenate([train_sizes, train_sizes]),\n",
    "            \"Accuracy\": np.concatenate([train_mean, test_mean]),\n",
    "            \"Type\": [\"Training\"] * len(train_sizes) + [\"Test\"] * len(train_sizes),\n",
    "        }\n",
    "    )\n",
    "\n",
    "    # Plot using Seaborn\n",
    "    sns.set_theme(style=\"whitegrid\")\n",
    "    plt.figure(figsize=(10, 6))\n",
    "    sns.lineplot(\n",
    "        data=data.to_pandas(), x=\"Train Size\", y=\"Accuracy\", hue=\"Type\", marker=\"o\"\n",
    "    )\n",
    "\n",
    "    # Add error bars\n",
    "    plt.fill_between(\n",
    "        train_sizes,\n",
    "        train_mean - train_std,\n",
    "        train_mean + train_std,\n",
    "        alpha=0.2,\n",
    "        color=\"blue\",\n",
    "    )\n",
    "    plt.fill_between(\n",
    "        train_sizes,\n",
    "        test_mean - test_std,\n",
    "        test_mean + test_std,\n",
    "        alpha=0.2,\n",
    "        color=\"orange\",\n",
    "    )\n",
    "\n",
    "    # Customize plot\n",
    "    plt.title(\"Learning Curve\", fontsize=16)\n",
    "    plt.xlabel(\"Training Set Size\", fontsize=12)\n",
    "    plt.ylabel(\"Accuracy\", fontsize=12)\n",
    "    plt.legend(title=\"Type\", loc=\"best\")\n",
    "    plt.grid(True)\n",
    "    plt.show()\n",
    "\n",
    "\n",
    "# Define the estimator\n",
    "estimator = LogisticRegression()\n",
    "\n",
    "# Plot the learning curve\n",
    "plot_learning_curve(estimator, X, tokenized[\"generated\"].to_numpy())"
   ]
  },
  {
   "cell_type": "markdown",
   "metadata": {},
   "source": [
    "## Make predictions on never-seen text"
   ]
  },
  {
   "cell_type": "markdown",
   "metadata": {},
   "source": [
    "As described in the README, we will use the PERSUADE corpus to validate our model with texts of different sources and nature of our training dataset.\n",
    "\n",
    "We ensure a 50/50 split between AI generated and human generated text. As well, we will use the same tokenizer and vectorizer that we used for training."
   ]
  },
  {
   "cell_type": "code",
   "execution_count": 49,
   "metadata": {},
   "outputs": [
    {
     "data": {
      "text/html": [
       "<div><style>\n",
       ".dataframe > thead > tr,\n",
       ".dataframe > tbody > tr {\n",
       "  text-align: right;\n",
       "  white-space: pre-wrap;\n",
       "}\n",
       "</style>\n",
       "<small>shape: (2, 2)</small><table border=\"1\" class=\"dataframe\"><thead><tr><th>generated</th><th>count</th></tr><tr><td>i64</td><td>u32</td></tr></thead><tbody><tr><td>1</td><td>35743</td></tr><tr><td>0</td><td>35762</td></tr></tbody></table></div>"
      ],
      "text/plain": [
       "shape: (2, 2)\n",
       "┌───────────┬───────┐\n",
       "│ generated ┆ count │\n",
       "│ ---       ┆ ---   │\n",
       "│ i64       ┆ u32   │\n",
       "╞═══════════╪═══════╡\n",
       "│ 1         ┆ 35743 │\n",
       "│ 0         ┆ 35762 │\n",
       "└───────────┴───────┘"
      ]
     },
     "execution_count": 49,
     "metadata": {},
     "output_type": "execute_result"
    }
   ],
   "source": [
    "validation_real = pl.read_csv(f\"{CFG.data_dir}/mlm_real.csv\")\n",
    "validation_real = validation_real.select(validation_real[\"essay_text\"].alias(\"text\"))\n",
    "validation_synthetic = pl.read_csv(f\"{CFG.data_dir}/mlm_synthetic.csv\")\n",
    "validation_synthetic = validation_synthetic.group_by(\"essay_id\").head(1)\n",
    "validation_synthetic = validation_synthetic.select(\n",
    "    validation_synthetic[\"discourse_text\"].alias(\"text\")\n",
    ")\n",
    "validation_real = validation_real.with_columns(\n",
    "    generated=pl.Series([0] * len(validation_real))\n",
    ")\n",
    "validation_synthetic = validation_synthetic.with_columns(\n",
    "    generated=pl.Series([1] * len(validation_synthetic))\n",
    ")\n",
    "validation = pl.concat([validation_real, validation_synthetic], parallel=True)\n",
    "validation[\"generated\"].value_counts()"
   ]
  },
  {
   "cell_type": "code",
   "execution_count": 50,
   "metadata": {},
   "outputs": [],
   "source": [
    "validation.write_csv(f\"{CFG.project_dir}/output/validation.csv\")"
   ]
  },
  {
   "cell_type": "code",
   "execution_count": 51,
   "metadata": {},
   "outputs": [],
   "source": [
    "model = skio.load(f\"{CFG.project_dir}/output/logistic_regressor.skops\")\n",
    "vectorizer = skio.load(f\"{CFG.project_dir}/output/tfidf_vectorizer.skops\")\n",
    "\n",
    "validation = pl.read_csv(f\"{CFG.project_dir}/output/validation.csv\")\n",
    "\n",
    "X_val = vectorizer.transform(validation[\"text\"].to_numpy())\n",
    "y_val = validation[\"generated\"].to_numpy()\n",
    "\n",
    "y_pred = model.predict(X_val)"
   ]
  },
  {
   "cell_type": "code",
   "execution_count": 52,
   "metadata": {},
   "outputs": [
    {
     "name": "stdout",
     "output_type": "stream",
     "text": [
      "-----------------------------------\n",
      "Classification Metrics:\n",
      "Accuracy: 0.5565205230403468\n",
      "Precision: 0.9975320829220138\n",
      "Recall: 0.1130850795960048\n",
      "F1 Score: 0.2031410981279055\n",
      "-----------------------------------\n",
      "Confusion Matrix\n",
      "[[35752    10]\n",
      " [31701  4042]]\n",
      "-----------------------------------\n",
      "Regression Metrics\n",
      "Mean Absolute Error: 0.4434794769596532\n",
      "Mean Squared Error: 0.4434794769596532\n",
      "R2 Score: -0.7739180330857851\n",
      "-----------------------------------\n"
     ]
    }
   ],
   "source": [
    "print(\"-----------------------------------\")\n",
    "print(\"Classification Metrics:\")\n",
    "print(\"Accuracy:\", metrics.accuracy_score(y_val, y_pred))\n",
    "print(\"Precision:\", metrics.precision_score(y_val, y_pred))\n",
    "print(\"Recall:\", metrics.recall_score(y_val, y_pred))\n",
    "print(\"F1 Score:\", metrics.f1_score(y_val, y_pred))\n",
    "print(\"-----------------------------------\")\n",
    "print(\"Confusion Matrix\")\n",
    "print(metrics.confusion_matrix(y_val, y_pred))\n",
    "print(\"-----------------------------------\")\n",
    "print(\"Regression Metrics\")\n",
    "print(\"Mean Absolute Error:\", metrics.mean_absolute_error(y_val, y_pred))\n",
    "print(\"Mean Squared Error:\", metrics.mean_squared_error(y_val, y_pred))\n",
    "print(\"R2 Score:\", metrics.r2_score(y_val, y_pred))\n",
    "print(\"-----------------------------------\")"
   ]
  }
 ],
 "metadata": {
  "kernelspec": {
   "display_name": ".venv",
   "language": "python",
   "name": "python3"
  },
  "language_info": {
   "codemirror_mode": {
    "name": "ipython",
    "version": 3
   },
   "file_extension": ".py",
   "mimetype": "text/x-python",
   "name": "python",
   "nbconvert_exporter": "python",
   "pygments_lexer": "ipython3",
   "version": "3.11.11"
  }
 },
 "nbformat": 4,
 "nbformat_minor": 2
}
