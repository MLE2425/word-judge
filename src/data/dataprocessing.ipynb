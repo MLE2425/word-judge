{
 "cells": [
  {
   "cell_type": "markdown",
   "metadata": {},
   "source": [
    "# Data processing\n",
    "\n",
    "In this notebook we will combine the different data sources collected for the project.\n",
    "\n",
    "We had to include external data sources to out first options due to the original dataset being almost only composed of AI-generated text"
   ]
  },
  {
   "cell_type": "markdown",
   "metadata": {},
   "source": [
    "## Imports"
   ]
  },
  {
   "cell_type": "code",
   "execution_count": 4,
   "metadata": {},
   "outputs": [],
   "source": [
    "# Set root path\n",
    "import sys\n",
    "\n",
    "sys.path.append(\"..\")\n",
    "\n",
    "import os\n",
    "import re\n",
    "import logging\n",
    "from typing import List\n",
    "\n",
    "logger = logging.getLogger(__name__)\n",
    "\n",
    "import polars as pl\n",
    "from cfg import CFG\n",
    "\n",
    "from data import *"
   ]
  },
  {
   "cell_type": "markdown",
   "metadata": {},
   "source": [
    "## Check sources"
   ]
  },
  {
   "cell_type": "code",
   "execution_count": null,
   "metadata": {},
   "outputs": [],
   "source": [
    "for source in [\n",
    "    \"train_prompts.csv\",\n",
    "    \"machine-dev.csv\",\n",
    "    \"machine-test.csv\",\n",
    "    \"machine-train.csv\",\n",
    "    \"sample_submission.csv\",\n",
    "    \"train_drcat_01.csv\",\n",
    "    \"train_drcat_02.csv\",\n",
    "    \"train_drcat_03.csv\",\n",
    "    \"train_drcat_04.csv\",\n",
    "    \"train_essays.csv\",\n",
    "    \"argugpt.csv\",\n",
    "    \"essay_forum_real.csv\",\n",
    "    \"test\",\n",
    "    \"drcat_v3.csv\",\n",
    "    \"ivypanda.csv\",\n",
    "]:\n",
    "    if source not in os.listdir(CFG.data_dir):\n",
    "        raise FileNotFoundError(f\"{source} not found in {CFG.data_path}\")"
   ]
  },
  {
   "cell_type": "markdown",
   "metadata": {},
   "source": [
    "## Merge sources"
   ]
  },
  {
   "cell_type": "code",
   "execution_count": 5,
   "metadata": {},
   "outputs": [],
   "source": [
    "sources = load_and_merge_sources()"
   ]
  },
  {
   "cell_type": "code",
   "execution_count": 6,
   "metadata": {},
   "outputs": [
    {
     "name": "stdout",
     "output_type": "stream",
     "text": [
      "shape: (228_699, 2)\n",
      "┌─────────────────────────────────┬───────┐\n",
      "│ text                            ┆ count │\n",
      "│ ---                             ┆ ---   │\n",
      "│ str                             ┆ u32   │\n",
      "╞═════════════════════════════════╪═══════╡\n",
      "│ Alternative Healthcare: Facili… ┆ 1     │\n",
      "│ Hey there!  So, I've been thin… ┆ 5     │\n",
      "│ I believe that while having a … ┆ 5     │\n",
      "│ Once you have researched how t… ┆ 5     │\n",
      "│ In recent years, the world has… ┆ 1     │\n",
      "│ …                               ┆ …     │\n",
      "│ When setting goals, there are … ┆ 4     │\n",
      "│ Scientists’ Guilt in L’Aquila … ┆ 1     │\n",
      "│ Dear Principal,                 ┆ 1     │\n",
      "│                                 ┆       │\n",
      "│ I am writing…                   ┆       │\n",
      "│ Gender and global political ec… ┆ 1     │\n",
      "│ Statistical Profile of School … ┆ 1     │\n",
      "└─────────────────────────────────┴───────┘\n",
      "shape: (2, 2)\n",
      "┌───────────┬────────┐\n",
      "│ generated ┆ count  │\n",
      "│ ---       ┆ ---    │\n",
      "│ i8        ┆ u32    │\n",
      "╞═══════════╪════════╡\n",
      "│ 0         ┆ 182609 │\n",
      "│ 1         ┆ 201394 │\n",
      "└───────────┴────────┘\n",
      "shape: (11, 2)\n",
      "┌──────────────────────┬────────┐\n",
      "│ source               ┆ count  │\n",
      "│ ---                  ┆ ---    │\n",
      "│ str                  ┆ u32    │\n",
      "╞══════════════════════╪════════╡\n",
      "│ train_essays.csv     ┆ 1378   │\n",
      "│ train_drcat_02.csv   ┆ 39785  │\n",
      "│ machine-train.csv    ┆ 3338   │\n",
      "│ train_drcat_03.csv   ┆ 42206  │\n",
      "│ machine-test.csv     ┆ 350    │\n",
      "│ …                    ┆ …      │\n",
      "│ drcat_v3.csv         ┆ 65267  │\n",
      "│ train_drcat_04.csv   ┆ 44206  │\n",
      "│ ivypanda.csv         ┆ 128293 │\n",
      "│ essay_forum_real.csv ┆ 25571  │\n",
      "│ machine-dev.csv      ┆ 350    │\n",
      "└──────────────────────┴────────┘\n"
     ]
    }
   ],
   "source": [
    "# Plot distribution of each column\n",
    "for col in sources.columns:\n",
    "    print(sources[col].value_counts())"
   ]
  },
  {
   "cell_type": "code",
   "execution_count": 12,
   "metadata": {},
   "outputs": [
    {
     "data": {
      "text/html": [
       "<div><style>\n",
       ".dataframe > thead > tr,\n",
       ".dataframe > tbody > tr {\n",
       "  text-align: right;\n",
       "  white-space: pre-wrap;\n",
       "}\n",
       "</style>\n",
       "<small>shape: (384_003, 3)</small><table border=\"1\" class=\"dataframe\"><thead><tr><th>text</th><th>generated</th><th>source</th></tr><tr><td>str</td><td>i8</td><td>str</td></tr></thead><tbody><tr><td>&quot;There are a variety of opinion…</td><td>1</td><td>&quot;machine-dev.csv&quot;</td></tr><tr><td>&quot;The university education is no…</td><td>1</td><td>&quot;machine-dev.csv&quot;</td></tr><tr><td>&quot;I believe that the university …</td><td>1</td><td>&quot;machine-dev.csv&quot;</td></tr><tr><td>&quot;University education is a topi…</td><td>1</td><td>&quot;machine-dev.csv&quot;</td></tr><tr><td>&quot;The purpose of university educ…</td><td>1</td><td>&quot;machine-dev.csv&quot;</td></tr><tr><td>&hellip;</td><td>&hellip;</td><td>&hellip;</td></tr><tr><td>&quot;Who is a Leader? Essay (Critic…</td><td>0</td><td>&quot;ivypanda.csv&quot;</td></tr><tr><td>&quot;Why I am studying engineering …</td><td>0</td><td>&quot;ivypanda.csv&quot;</td></tr><tr><td>&quot;Why Indeed Did the WTC Buildin…</td><td>0</td><td>&quot;ivypanda.csv&quot;</td></tr><tr><td>&quot;Why the Government Should Revi…</td><td>0</td><td>&quot;ivypanda.csv&quot;</td></tr><tr><td>&quot;Why We Fight: Military Industr…</td><td>0</td><td>&quot;ivypanda.csv&quot;</td></tr></tbody></table></div>"
      ],
      "text/plain": [
       "shape: (384_003, 3)\n",
       "┌─────────────────────────────────┬───────────┬─────────────────┐\n",
       "│ text                            ┆ generated ┆ source          │\n",
       "│ ---                             ┆ ---       ┆ ---             │\n",
       "│ str                             ┆ i8        ┆ str             │\n",
       "╞═════════════════════════════════╪═══════════╪═════════════════╡\n",
       "│ There are a variety of opinion… ┆ 1         ┆ machine-dev.csv │\n",
       "│ The university education is no… ┆ 1         ┆ machine-dev.csv │\n",
       "│ I believe that the university … ┆ 1         ┆ machine-dev.csv │\n",
       "│ University education is a topi… ┆ 1         ┆ machine-dev.csv │\n",
       "│ The purpose of university educ… ┆ 1         ┆ machine-dev.csv │\n",
       "│ …                               ┆ …         ┆ …               │\n",
       "│ Who is a Leader? Essay (Critic… ┆ 0         ┆ ivypanda.csv    │\n",
       "│ Why I am studying engineering … ┆ 0         ┆ ivypanda.csv    │\n",
       "│ Why Indeed Did the WTC Buildin… ┆ 0         ┆ ivypanda.csv    │\n",
       "│ Why the Government Should Revi… ┆ 0         ┆ ivypanda.csv    │\n",
       "│ Why We Fight: Military Industr… ┆ 0         ┆ ivypanda.csv    │\n",
       "└─────────────────────────────────┴───────────┴─────────────────┘"
      ]
     },
     "execution_count": 12,
     "metadata": {},
     "output_type": "execute_result"
    }
   ],
   "source": [
    "sources"
   ]
  },
  {
   "cell_type": "code",
   "execution_count": null,
   "metadata": {},
   "outputs": [],
   "source": []
  }
 ],
 "metadata": {
  "kernelspec": {
   "display_name": ".venv",
   "language": "python",
   "name": "python3"
  },
  "language_info": {
   "codemirror_mode": {
    "name": "ipython",
    "version": 3
   },
   "file_extension": ".py",
   "mimetype": "text/x-python",
   "name": "python",
   "nbconvert_exporter": "python",
   "pygments_lexer": "ipython3",
   "version": "3.11.11"
  }
 },
 "nbformat": 4,
 "nbformat_minor": 2
}
