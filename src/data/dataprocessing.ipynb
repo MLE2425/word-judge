{
 "cells": [
  {
   "cell_type": "markdown",
   "metadata": {},
   "source": [
    "# Data processing\n",
    "\n",
    "In this notebook we will combine the different data sources collected for the project.\n",
    "\n",
    "We had to include external data sources to out first options due to the original dataset being almost only composed of AI-generated text"
   ]
  },
  {
   "cell_type": "markdown",
   "metadata": {},
   "source": [
    "## Imports"
   ]
  },
  {
   "cell_type": "code",
   "execution_count": null,
   "metadata": {},
   "outputs": [],
   "source": [
    "# Set root path\n",
    "import sys\n",
    "\n",
    "sys.path.append(\"..\")\n",
    "\n",
    "import os\n",
    "import re\n",
    "import logging\n",
    "from typing import List\n",
    "\n",
    "logger = logging.getLogger(__name__)\n",
    "\n",
    "import polars as pl\n",
    "from cfg import CFG"
   ]
  },
  {
   "cell_type": "code",
   "execution_count": 19,
   "metadata": {},
   "outputs": [],
   "source": [
    "def load_and_merge_sources() -> pl.DataFrame:\n",
    "    sources: List[pl.DataFrame] = []\n",
    "    print(os.listdir(CFG.data_dir))\n",
    "    for csv in os.listdir(CFG.data_dir):\n",
    "        key: str | None = next(\n",
    "            iter([k for k in CFG.source_sep if re.match(rf\"{k}\", csv)]), None\n",
    "        )\n",
    "        if key is None:\n",
    "            continue\n",
    "\n",
    "        sep: str = CFG.source_sep[key]\n",
    "        source: pl.DataFrame\n",
    "        try:\n",
    "            source = pl.read_csv(f\"{CFG.data_dir}/{csv}\", separator=sep)\n",
    "        except Exception as _:\n",
    "            logger.debug(f\"Error reading {csv}\")\n",
    "            continue\n",
    "\n",
    "        # Mapping features\n",
    "        source = source.rename(\n",
    "            {f: CFG.features_map[f] for f in CFG.features_map if f in source.columns}\n",
    "        )\n",
    "\n",
    "        if CFG.source_ia[key] is not None:\n",
    "            source = source.with_columns(\n",
    "                generated=pl.lit(1 if CFG.source_ia[key] else 0)\n",
    "            )\n",
    "\n",
    "        source = source.select([\"text\", \"generated\"])\n",
    "\n",
    "        source = source.with_columns(generated=source[\"generated\"].cast(pl.Int8))\n",
    "\n",
    "        if CFG.add_source_to_data:\n",
    "            source = source.with_columns(\n",
    "                source=pl.lit(csv),\n",
    "            )\n",
    "\n",
    "        sources.append(source)\n",
    "    combined_sources = pl.concat(sources) if sources else pl.DataFrame()\n",
    "    return combined_sources"
   ]
  },
  {
   "cell_type": "code",
   "execution_count": 20,
   "metadata": {},
   "outputs": [
    {
     "name": "stdout",
     "output_type": "stream",
     "text": [
      "['data.py', '__pycache__', 'dataprocessing.ipynb']\n"
     ]
    }
   ],
   "source": [
    "sources = load_and_merge_sources()"
   ]
  },
  {
   "cell_type": "code",
   "execution_count": 17,
   "metadata": {},
   "outputs": [],
   "source": [
    "# Plot distribution of each column\n",
    "for col in sources.columns:\n",
    "    print(sources[col].value_counts())"
   ]
  },
  {
   "cell_type": "code",
   "execution_count": 18,
   "metadata": {},
   "outputs": [
    {
     "data": {
      "text/html": [
       "<div><style>\n",
       ".dataframe > thead > tr,\n",
       ".dataframe > tbody > tr {\n",
       "  text-align: right;\n",
       "  white-space: pre-wrap;\n",
       "}\n",
       "</style>\n",
       "<small>shape: (0, 0)</small><table border=\"1\" class=\"dataframe\"><thead><tr></tr><tr></tr></thead><tbody></tbody></table></div>"
      ],
      "text/plain": [
       "shape: (0, 0)\n",
       "┌┐\n",
       "╞╡\n",
       "└┘"
      ]
     },
     "execution_count": 18,
     "metadata": {},
     "output_type": "execute_result"
    }
   ],
   "source": [
    "sources"
   ]
  },
  {
   "cell_type": "code",
   "execution_count": null,
   "metadata": {},
   "outputs": [],
   "source": []
  }
 ],
 "metadata": {
  "kernelspec": {
   "display_name": ".venv",
   "language": "python",
   "name": "python3"
  },
  "language_info": {
   "codemirror_mode": {
    "name": "ipython",
    "version": 3
   },
   "file_extension": ".py",
   "mimetype": "text/x-python",
   "name": "python",
   "nbconvert_exporter": "python",
   "pygments_lexer": "ipython3",
   "version": "3.11.11"
  }
 },
 "nbformat": 4,
 "nbformat_minor": 2
}
