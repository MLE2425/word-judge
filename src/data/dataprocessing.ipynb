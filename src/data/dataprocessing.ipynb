{
 "cells": [
  {
   "cell_type": "markdown",
   "metadata": {},
   "source": [
    "# Data processing\n",
    "\n",
    "In this notebook we will combine the different data sources collected for the project.\n",
    "\n",
    "We had to include external data sources to out first options due to the original dataset being almost only composed of AI-generated text"
   ]
  },
  {
   "cell_type": "markdown",
   "metadata": {},
   "source": [
    "## Imports"
   ]
  },
  {
   "cell_type": "code",
   "execution_count": 1,
   "metadata": {},
   "outputs": [],
   "source": [
    "# Set root path\n",
    "import sys\n",
    "\n",
    "sys.path.append(\"..\")\n",
    "\n",
    "import os\n",
    "import re\n",
    "import logging\n",
    "from typing import List\n",
    "\n",
    "logger = logging.getLogger(__name__)\n",
    "\n",
    "import polars as pl\n",
    "from cfg import CFG\n",
    "\n",
    "from data import *"
   ]
  },
  {
   "cell_type": "code",
   "execution_count": 2,
   "metadata": {},
   "outputs": [],
   "source": [
    "sources = load_and_merge_sources()"
   ]
  },
  {
   "cell_type": "code",
   "execution_count": 3,
   "metadata": {},
   "outputs": [
    {
     "name": "stdout",
     "output_type": "stream",
     "text": [
      "shape: (228_699, 2)\n",
      "┌─────────────────────────────────┬───────┐\n",
      "│ text                            ┆ count │\n",
      "│ ---                             ┆ ---   │\n",
      "│ str                             ┆ u32   │\n",
      "╞═════════════════════════════════╪═══════╡\n",
      "│ I believe that homework is an … ┆ 4     │\n",
      "│ Driverless cars are coming. Dr… ┆ 5     │\n",
      "│ Ancient Hawaiian Astronomers a… ┆ 1     │\n",
      "│ David Hume: The Ideology of Se… ┆ 1     │\n",
      "│ History to the Eighteenth Cent… ┆ 1     │\n",
      "│ …                               ┆ …     │\n",
      "│ Dear Senator,                   ┆ 5     │\n",
      "│                                 ┆       │\n",
      "│ I believe that …                ┆       │\n",
      "│ While driverless cars present … ┆ 2     │\n",
      "│ *Your reasons for wanting to s… ┆ 1     │\n",
      "│ The Watergate Scandal’s Source… ┆ 1     │\n",
      "│ Spotlight on Ford Motor Compan… ┆ 1     │\n",
      "└─────────────────────────────────┴───────┘\n",
      "shape: (2, 2)\n",
      "┌───────────┬────────┐\n",
      "│ generated ┆ count  │\n",
      "│ ---       ┆ ---    │\n",
      "│ i8        ┆ u32    │\n",
      "╞═══════════╪════════╡\n",
      "│ 1         ┆ 201394 │\n",
      "│ 0         ┆ 182609 │\n",
      "└───────────┴────────┘\n",
      "shape: (11, 2)\n",
      "┌──────────────────────┬────────┐\n",
      "│ source               ┆ count  │\n",
      "│ ---                  ┆ ---    │\n",
      "│ str                  ┆ u32    │\n",
      "╞══════════════════════╪════════╡\n",
      "│ machine-test.csv     ┆ 350    │\n",
      "│ train_drcat_04.csv   ┆ 44206  │\n",
      "│ machine-dev.csv      ┆ 350    │\n",
      "│ drcat_v3.csv         ┆ 65267  │\n",
      "│ train_drcat_02.csv   ┆ 39785  │\n",
      "│ …                    ┆ …      │\n",
      "│ train_drcat_03.csv   ┆ 42206  │\n",
      "│ ivypanda.csv         ┆ 128293 │\n",
      "│ train_drcat_01.csv   ┆ 33259  │\n",
      "│ essay_forum_real.csv ┆ 25571  │\n",
      "│ machine-train.csv    ┆ 3338   │\n",
      "└──────────────────────┴────────┘\n"
     ]
    }
   ],
   "source": [
    "# Plot distribution of each column\n",
    "for col in sources.columns:\n",
    "    print(sources[col].value_counts())"
   ]
  },
  {
   "cell_type": "code",
   "execution_count": 4,
   "metadata": {},
   "outputs": [
    {
     "data": {
      "text/html": [
       "<div><style>\n",
       ".dataframe > thead > tr,\n",
       ".dataframe > tbody > tr {\n",
       "  text-align: right;\n",
       "  white-space: pre-wrap;\n",
       "}\n",
       "</style>\n",
       "<small>shape: (190_443, 3)</small><table border=\"1\" class=\"dataframe\"><thead><tr><th>text</th><th>generated</th><th>source</th></tr><tr><td>str</td><td>i8</td><td>str</td></tr></thead><tbody><tr><td>&quot;There are a variety of opinion…</td><td>1</td><td>&quot;machine-dev.csv&quot;</td></tr><tr><td>&quot;The university education is no…</td><td>1</td><td>&quot;machine-dev.csv&quot;</td></tr><tr><td>&quot;I believe that the university …</td><td>1</td><td>&quot;machine-dev.csv&quot;</td></tr><tr><td>&quot;University education is a topi…</td><td>1</td><td>&quot;machine-dev.csv&quot;</td></tr><tr><td>&quot;The purpose of university educ…</td><td>1</td><td>&quot;machine-dev.csv&quot;</td></tr><tr><td>&hellip;</td><td>&hellip;</td><td>&hellip;</td></tr><tr><td>&quot;Essay 1Although military analo…</td><td>0</td><td>&quot;essay_forum_real.csv&quot;</td></tr><tr><td>&quot;Through my experiences in life…</td><td>0</td><td>&quot;essay_forum_real.csv&quot;</td></tr><tr><td>&quot;Since I am in Singapore, I hav…</td><td>0</td><td>&quot;essay_forum_real.csv&quot;</td></tr><tr><td>&quot;In 250-300 words, explain the …</td><td>0</td><td>&quot;essay_forum_real.csv&quot;</td></tr><tr><td>&quot;There are many courses offered…</td><td>0</td><td>&quot;essay_forum_real.csv&quot;</td></tr></tbody></table></div>"
      ],
      "text/plain": [
       "shape: (190_443, 3)\n",
       "┌─────────────────────────────────┬───────────┬──────────────────────┐\n",
       "│ text                            ┆ generated ┆ source               │\n",
       "│ ---                             ┆ ---       ┆ ---                  │\n",
       "│ str                             ┆ i8        ┆ str                  │\n",
       "╞═════════════════════════════════╪═══════════╪══════════════════════╡\n",
       "│ There are a variety of opinion… ┆ 1         ┆ machine-dev.csv      │\n",
       "│ The university education is no… ┆ 1         ┆ machine-dev.csv      │\n",
       "│ I believe that the university … ┆ 1         ┆ machine-dev.csv      │\n",
       "│ University education is a topi… ┆ 1         ┆ machine-dev.csv      │\n",
       "│ The purpose of university educ… ┆ 1         ┆ machine-dev.csv      │\n",
       "│ …                               ┆ …         ┆ …                    │\n",
       "│ Essay 1Although military analo… ┆ 0         ┆ essay_forum_real.csv │\n",
       "│ Through my experiences in life… ┆ 0         ┆ essay_forum_real.csv │\n",
       "│ Since I am in Singapore, I hav… ┆ 0         ┆ essay_forum_real.csv │\n",
       "│ In 250-300 words, explain the … ┆ 0         ┆ essay_forum_real.csv │\n",
       "│ There are many courses offered… ┆ 0         ┆ essay_forum_real.csv │\n",
       "└─────────────────────────────────┴───────────┴──────────────────────┘"
      ]
     },
     "execution_count": 4,
     "metadata": {},
     "output_type": "execute_result"
    }
   ],
   "source": [
    "sources"
   ]
  }
 ],
 "metadata": {
  "kernelspec": {
   "display_name": ".venv",
   "language": "python",
   "name": "python3"
  },
  "language_info": {
   "codemirror_mode": {
    "name": "ipython",
    "version": 3
   },
   "file_extension": ".py",
   "mimetype": "text/x-python",
   "name": "python",
   "nbconvert_exporter": "python",
   "pygments_lexer": "ipython3",
   "version": "3.11.11"
  }
 },
 "nbformat": 4,
 "nbformat_minor": 2
}
