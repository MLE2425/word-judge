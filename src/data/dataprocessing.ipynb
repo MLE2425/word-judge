{
 "cells": [
  {
   "cell_type": "markdown",
   "metadata": {},
   "source": [
    "# Data processing\n",
    "\n",
    "In this notebook we will combine the different data sources collected for the project.\n",
    "\n",
    "We had to include external data sources to out first options due to the original dataset being almost only composed of AI-generated text"
   ]
  },
  {
   "cell_type": "markdown",
   "metadata": {},
   "source": [
    "## Imports"
   ]
  },
  {
   "cell_type": "code",
   "execution_count": 25,
   "metadata": {},
   "outputs": [],
   "source": [
    "# Set root path\n",
    "import sys\n",
    "\n",
    "sys.path.append(\"..\")\n",
    "\n",
    "import os\n",
    "import re\n",
    "import logging\n",
    "from typing import List\n",
    "\n",
    "logger = logging.getLogger(__name__)\n",
    "\n",
    "import polars as pl\n",
    "from cfg import CFG\n",
    "\n",
    "from data import *"
   ]
  },
  {
   "cell_type": "markdown",
   "metadata": {},
   "source": [
    "## Check sources"
   ]
  },
  {
   "cell_type": "code",
   "execution_count": 26,
   "metadata": {},
   "outputs": [],
   "source": [
    "for source in [\n",
    "    \"train_prompts.csv\",\n",
    "    \"machine-dev.csv\",\n",
    "    \"machine-test.csv\",\n",
    "    \"machine-train.csv\",\n",
    "    \"sample_submission.csv\",\n",
    "    \"train_drcat_01.csv\",\n",
    "    \"train_drcat_02.csv\",\n",
    "    \"train_drcat_03.csv\",\n",
    "    \"train_drcat_04.csv\",\n",
    "    \"train_essays.csv\",\n",
    "    \"argugpt.csv\",\n",
    "    \"essay_forum_real.csv\",\n",
    "    \"test\",\n",
    "    \"drcat_v3.csv\",\n",
    "    \"ivypanda.csv\",\n",
    "]:\n",
    "    if source not in os.listdir(CFG.data_dir):\n",
    "        raise FileNotFoundError(f\"{source} not found in {CFG.data_path}\")"
   ]
  },
  {
   "cell_type": "markdown",
   "metadata": {},
   "source": [
    "## Merge sources"
   ]
  },
  {
   "cell_type": "code",
   "execution_count": 27,
   "metadata": {},
   "outputs": [],
   "source": [
    "sources = load_and_merge_sources()"
   ]
  },
  {
   "cell_type": "code",
   "execution_count": 28,
   "metadata": {},
   "outputs": [
    {
     "name": "stdout",
     "output_type": "stream",
     "text": [
      "shape: (228_699, 2)\n",
      "┌─────────────────────────────────┬───────┐\n",
      "│ text                            ┆ count │\n",
      "│ ---                             ┆ ---   │\n",
      "│ str                             ┆ u32   │\n",
      "╞═════════════════════════════════╪═══════╡\n",
      "│ Biosphere Evolution and Threat… ┆ 1     │\n",
      "│ Title: Breaking Barriers of Ge… ┆ 1     │\n",
      "│ Oedipus Rex Play’s Appeal to M… ┆ 1     │\n",
      "│ Abnormal Psychology Essentials… ┆ 1     │\n",
      "│ Most of the people on Earths e… ┆ 5     │\n",
      "│ …                               ┆ …     │\n",
      "│ Globalization a Dynamic Force … ┆ 1     │\n",
      "│ Have you ever wanted to explor… ┆ 5     │\n",
      "│ Stroop Reaction time on Adults… ┆ 1     │\n",
      "│ One of my extracurricular acti… ┆ 1     │\n",
      "│ Human Resource Management in t… ┆ 1     │\n",
      "└─────────────────────────────────┴───────┘\n",
      "shape: (2, 2)\n",
      "┌───────────┬────────┐\n",
      "│ generated ┆ count  │\n",
      "│ ---       ┆ ---    │\n",
      "│ i8        ┆ u32    │\n",
      "╞═══════════╪════════╡\n",
      "│ 0         ┆ 182609 │\n",
      "│ 1         ┆ 201394 │\n",
      "└───────────┴────────┘\n",
      "shape: (11, 2)\n",
      "┌──────────────────────┬────────┐\n",
      "│ source               ┆ count  │\n",
      "│ ---                  ┆ ---    │\n",
      "│ str                  ┆ u32    │\n",
      "╞══════════════════════╪════════╡\n",
      "│ machine-dev.csv      ┆ 350    │\n",
      "│ ivypanda.csv         ┆ 128293 │\n",
      "│ drcat_v3.csv         ┆ 65267  │\n",
      "│ train_drcat_04.csv   ┆ 44206  │\n",
      "│ train_drcat_02.csv   ┆ 39785  │\n",
      "│ …                    ┆ …      │\n",
      "│ machine-test.csv     ┆ 350    │\n",
      "│ train_essays.csv     ┆ 1378   │\n",
      "│ train_drcat_03.csv   ┆ 42206  │\n",
      "│ machine-train.csv    ┆ 3338   │\n",
      "│ essay_forum_real.csv ┆ 25571  │\n",
      "└──────────────────────┴────────┘\n"
     ]
    }
   ],
   "source": [
    "# Plot distribution of each column\n",
    "for col in sources.columns:\n",
    "    print(sources[col].value_counts())"
   ]
  },
  {
   "cell_type": "code",
   "execution_count": 29,
   "metadata": {},
   "outputs": [
    {
     "data": {
      "text/html": [
       "<div><style>\n",
       ".dataframe > thead > tr,\n",
       ".dataframe > tbody > tr {\n",
       "  text-align: right;\n",
       "  white-space: pre-wrap;\n",
       "}\n",
       "</style>\n",
       "<small>shape: (384_003, 3)</small><table border=\"1\" class=\"dataframe\"><thead><tr><th>text</th><th>generated</th><th>source</th></tr><tr><td>str</td><td>i8</td><td>str</td></tr></thead><tbody><tr><td>&quot;There are a variety of opinion…</td><td>1</td><td>&quot;machine-dev.csv&quot;</td></tr><tr><td>&quot;The university education is no…</td><td>1</td><td>&quot;machine-dev.csv&quot;</td></tr><tr><td>&quot;I believe that the university …</td><td>1</td><td>&quot;machine-dev.csv&quot;</td></tr><tr><td>&quot;University education is a topi…</td><td>1</td><td>&quot;machine-dev.csv&quot;</td></tr><tr><td>&quot;The purpose of university educ…</td><td>1</td><td>&quot;machine-dev.csv&quot;</td></tr><tr><td>&hellip;</td><td>&hellip;</td><td>&hellip;</td></tr><tr><td>&quot;There has been a fuss about th…</td><td>0</td><td>&quot;train_essays.csv&quot;</td></tr><tr><td>&quot;Limiting car usage has many ad…</td><td>0</td><td>&quot;train_essays.csv&quot;</td></tr><tr><td>&quot;There&#x27;s a new trend that has b…</td><td>0</td><td>&quot;train_essays.csv&quot;</td></tr><tr><td>&quot;As we all know cars are a big …</td><td>0</td><td>&quot;train_essays.csv&quot;</td></tr><tr><td>&quot;Cars have been around since th…</td><td>0</td><td>&quot;train_essays.csv&quot;</td></tr></tbody></table></div>"
      ],
      "text/plain": [
       "shape: (384_003, 3)\n",
       "┌─────────────────────────────────┬───────────┬──────────────────┐\n",
       "│ text                            ┆ generated ┆ source           │\n",
       "│ ---                             ┆ ---       ┆ ---              │\n",
       "│ str                             ┆ i8        ┆ str              │\n",
       "╞═════════════════════════════════╪═══════════╪══════════════════╡\n",
       "│ There are a variety of opinion… ┆ 1         ┆ machine-dev.csv  │\n",
       "│ The university education is no… ┆ 1         ┆ machine-dev.csv  │\n",
       "│ I believe that the university … ┆ 1         ┆ machine-dev.csv  │\n",
       "│ University education is a topi… ┆ 1         ┆ machine-dev.csv  │\n",
       "│ The purpose of university educ… ┆ 1         ┆ machine-dev.csv  │\n",
       "│ …                               ┆ …         ┆ …                │\n",
       "│ There has been a fuss about th… ┆ 0         ┆ train_essays.csv │\n",
       "│ Limiting car usage has many ad… ┆ 0         ┆ train_essays.csv │\n",
       "│ There's a new trend that has b… ┆ 0         ┆ train_essays.csv │\n",
       "│ As we all know cars are a big … ┆ 0         ┆ train_essays.csv │\n",
       "│ Cars have been around since th… ┆ 0         ┆ train_essays.csv │\n",
       "└─────────────────────────────────┴───────────┴──────────────────┘"
      ]
     },
     "execution_count": 29,
     "metadata": {},
     "output_type": "execute_result"
    }
   ],
   "source": [
    "sources"
   ]
  },
  {
   "cell_type": "code",
   "execution_count": null,
   "metadata": {},
   "outputs": [],
   "source": []
  }
 ],
 "metadata": {
  "kernelspec": {
   "display_name": ".venv",
   "language": "python",
   "name": "python3"
  },
  "language_info": {
   "codemirror_mode": {
    "name": "ipython",
    "version": 3
   },
   "file_extension": ".py",
   "mimetype": "text/x-python",
   "name": "python",
   "nbconvert_exporter": "python",
   "pygments_lexer": "ipython3",
   "version": "3.11.11"
  }
 },
 "nbformat": 4,
 "nbformat_minor": 2
}
